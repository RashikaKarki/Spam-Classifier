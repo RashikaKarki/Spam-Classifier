{
  "nbformat": 4,
  "nbformat_minor": 0,
  "metadata": {
    "colab": {
      "provenance": []
    },
    "kernelspec": {
      "name": "python3",
      "display_name": "Python 3"
    },
    "language_info": {
      "name": "python"
    }
  },
  "cells": [
    {
      "cell_type": "markdown",
      "source": [
        "# Spam Classifier from scratch using Naive Bayes\n",
        "\n",
        "## Goal\n",
        "\n",
        "To implement simple spam classifier from scratch using naive bayes concept.\n",
        "\n",
        "## Dataset used for training\n",
        "\n",
        "The SMS Spam Collection is a set of SMS tagged messages that have been collected for SMS Spam research. It contains one set of SMS messages in English of 5,574 messages, tagged acording being ham (legitimate) or spam.\n",
        "\n",
        "\n",
        "Source: [Kaggle](https://www.kaggle.com/datasets/uciml/sms-spam-collection-dataset)\n",
        "\n",
        "\n",
        "## References\n",
        "\n",
        "- [Naive Bayes, Clear Explained - Youtube](https://www.youtube.com/watch?v=O2L2Uv9pdDA)\n",
        "- [Naive Bayes Classifier From Scratch](https://machinelearningmastery.com/naive-bayes-classifier-scratch-python/)\n"
      ],
      "metadata": {
        "id": "kbayOmsNUgrI"
      }
    },
    {
      "cell_type": "code",
      "source": [
        "import pandas as pd\n",
        "from collections import Counter"
      ],
      "metadata": {
        "id": "tvPDCFyMUc6y"
      },
      "execution_count": 1,
      "outputs": []
    },
    {
      "cell_type": "code",
      "source": [
        "class ClassifySpam:\n",
        "    '''\n",
        "    Class that classifies spam and ham data\n",
        "    '''\n",
        "\n",
        "    def __init__(self, df, spam_probability, ham_probability):\n",
        "        \"\"\"\n",
        "        Initialize the ClassifySpam object.\n",
        "\n",
        "        Parameters:\n",
        "        - sms: The input SMS text to be classified.\n",
        "        - df: DataFrame containing word counts and probabilities.\n",
        "        - spam_probability: Prior probability of spam.\n",
        "        - ham_probability: Prior probability of ham.\n",
        "        \"\"\"\n",
        "        self.word_count_df = df\n",
        "        self.sms = ''\n",
        "        self.spam_probability = spam_probability\n",
        "        self.ham_probability = ham_probability\n",
        "\n",
        "    def _get_sanitized_sms(self):\n",
        "      return ''.join(e.lower() for e in self.sms if e.isalpha() or e.isspace())\n",
        "\n",
        "    def _word_exists(self, word):\n",
        "        \"\"\"\n",
        "        Check if a given word exists in the word_count_df DataFrame.\n",
        "\n",
        "        Parameters:\n",
        "        - word: The word to check for existence.\n",
        "\n",
        "        Returns:\n",
        "        - bool: True if the word exists, False otherwise.\n",
        "        \"\"\"\n",
        "        return any(self.word_count_df['words'] == word)\n",
        "\n",
        "    def _filter_known_words(self, words):\n",
        "        \"\"\"\n",
        "        Filter out unknown words from the list of words.\n",
        "\n",
        "        Parameters:\n",
        "        - words: List of words to filter.\n",
        "\n",
        "        Returns:\n",
        "        - list: List of known words.\n",
        "        \"\"\"\n",
        "        return [word for word in words if self._word_exists(word)]\n",
        "\n",
        "    def _get_known_words(self):\n",
        "        \"\"\"\n",
        "        Get the list of known words from the SMS.\n",
        "\n",
        "        Returns:\n",
        "        - list: List of known words in the SMS.\n",
        "        \"\"\"\n",
        "        words = self._get_sanitized_sms().split()\n",
        "\n",
        "        return self._filter_known_words(words)\n",
        "\n",
        "    def calc_prob_spam(self):\n",
        "        \"\"\"\n",
        "        Calculate the probability of the SMS being spam using known words.\n",
        "\n",
        "        Returns:\n",
        "        - float: Probability of the SMS being spam.\n",
        "        \"\"\"\n",
        "        prob = self.spam_probability\n",
        "        for word in self._get_known_words():\n",
        "            prob *= self.word_count_df[self.word_count_df[\"words\"] == word][\"is_spam_prob\"].iloc[0]\n",
        "        return prob\n",
        "\n",
        "    def calc_prob_ham(self):\n",
        "        \"\"\"\n",
        "        Calculate the probability of the SMS being ham using known words.\n",
        "\n",
        "        Returns:\n",
        "        - float: Probability of the SMS being ham.\n",
        "        \"\"\"\n",
        "        prob = self.ham_probability\n",
        "        for word in self._get_known_words():\n",
        "            prob *= self.word_count_df[self.word_count_df[\"words\"] == word][\"is_ham_prob\"].iloc[0]\n",
        "        return prob\n",
        "\n",
        "    def is_spam_or_ham(self, sms):\n",
        "        \"\"\"\n",
        "        Classify the SMS as spam or ham based on probabilities.\n",
        "\n",
        "        Returns:\n",
        "        - str: Classification result - 'Cannot classify', 'Classified as normal message', or 'Classified as spam message'.\n",
        "        \"\"\"\n",
        "        self.sms = sms\n",
        "        if len(self._get_known_words()) == 0:\n",
        "            return 'Cannot classify'\n",
        "        else:\n",
        "            if self.calc_prob_ham() > self.calc_prob_spam():\n",
        "                return 'Classified as normal message'\n",
        "            else:\n",
        "                return 'Classified as spam message'\n"
      ],
      "metadata": {
        "id": "jnw1vqMjnRli"
      },
      "execution_count": 2,
      "outputs": []
    },
    {
      "cell_type": "code",
      "source": [
        "# Training DataSet\n",
        "\n",
        "\n",
        "df = pd.read_csv('spam.csv', encoding = 'ISO-8859-1')"
      ],
      "metadata": {
        "id": "cCkrTxGCWgCz"
      },
      "execution_count": 3,
      "outputs": []
    },
    {
      "cell_type": "markdown",
      "source": [
        "### Preprocessing Data"
      ],
      "metadata": {
        "id": "rd4bHJIhnwuk"
      }
    },
    {
      "cell_type": "code",
      "source": [
        "df = df.drop(['Unnamed: 2', 'Unnamed: 3', 'Unnamed: 4'], axis=1)"
      ],
      "metadata": {
        "id": "qzY36A9yWviL"
      },
      "execution_count": 4,
      "outputs": []
    },
    {
      "cell_type": "code",
      "source": [
        "df.columns = ['category', 'sms']"
      ],
      "metadata": {
        "id": "_kKD9pNlXCBL"
      },
      "execution_count": 5,
      "outputs": []
    },
    {
      "cell_type": "code",
      "source": [
        "# changing all the sms data to lower case and removing non alpha characters\n",
        "\n",
        "df['sms'] = df['sms'].apply(lambda x: ''.join(e.lower() for e in x if e.isalpha() or e.isspace()))"
      ],
      "metadata": {
        "id": "Yaa13cUXXGLn"
      },
      "execution_count": 6,
      "outputs": []
    },
    {
      "cell_type": "markdown",
      "source": [
        "## Preparing the dataset\n"
      ],
      "metadata": {
        "id": "kAGypygNpJh4"
      }
    },
    {
      "cell_type": "code",
      "source": [
        "# Transforming the dataset\n",
        "\n",
        "spam_counter = Counter()\n",
        "ham_counter = Counter()\n",
        "\n",
        "for index, row in df.iterrows():\n",
        "    words = row['sms'].split()\n",
        "    if row['category'] == 'spam':\n",
        "        spam_counter.update(words)\n",
        "    else:\n",
        "        ham_counter.update(words)\n",
        "\n",
        "word_count_df = pd.DataFrame({ 'words': list(set(spam_counter.keys()).union(set(ham_counter.keys())))})\n",
        "\n",
        "# Adding alpha = 1 to counts\n",
        "word_count_df['count_spam'] = word_count_df['words'].apply(lambda word: spam_counter[word] + 1)\n",
        "word_count_df['count_ham'] = word_count_df['words'].apply(lambda word: ham_counter[word] + 1)"
      ],
      "metadata": {
        "id": "1rpYAV9VYprH"
      },
      "execution_count": 7,
      "outputs": []
    },
    {
      "cell_type": "code",
      "source": [
        "total_words_in_spam = word_count_df['count_spam'].sum()\n",
        "total_words_in_ham = word_count_df['count_ham'].sum()"
      ],
      "metadata": {
        "id": "w9zCVWe3eRki"
      },
      "execution_count": 8,
      "outputs": []
    },
    {
      "cell_type": "code",
      "source": [
        "word_count_df['is_spam_prob'] = word_count_df['count_spam']/total_words_in_spam\n",
        "word_count_df['is_ham_prob'] = word_count_df['count_ham']/total_words_in_ham"
      ],
      "metadata": {
        "id": "5hzrY5_Xaih5"
      },
      "execution_count": 9,
      "outputs": []
    },
    {
      "cell_type": "code",
      "source": [
        "word_count_df.head()"
      ],
      "metadata": {
        "colab": {
          "base_uri": "https://localhost:8080/",
          "height": 206
        },
        "id": "QkGdx8Lqaklx",
        "outputId": "29e91384-dcca-43c5-d02d-1ba2d75d1689"
      },
      "execution_count": 10,
      "outputs": [
        {
          "output_type": "execute_result",
          "data": {
            "text/plain": [
              "             words  count_spam  count_ham  is_spam_prob  is_ham_prob\n",
              "0          aproach           1          3      0.000040     0.000040\n",
              "1             mrng           1         15      0.000040     0.000199\n",
              "2       nightnight           1          2      0.000040     0.000027\n",
              "3  internetservice           2          1      0.000081     0.000013\n",
              "4                u         156        989      0.006317     0.013127"
            ],
            "text/html": [
              "\n",
              "  <div id=\"df-f59c4b82-cd49-4f94-a31f-a5b9c8d22ff7\" class=\"colab-df-container\">\n",
              "    <div>\n",
              "<style scoped>\n",
              "    .dataframe tbody tr th:only-of-type {\n",
              "        vertical-align: middle;\n",
              "    }\n",
              "\n",
              "    .dataframe tbody tr th {\n",
              "        vertical-align: top;\n",
              "    }\n",
              "\n",
              "    .dataframe thead th {\n",
              "        text-align: right;\n",
              "    }\n",
              "</style>\n",
              "<table border=\"1\" class=\"dataframe\">\n",
              "  <thead>\n",
              "    <tr style=\"text-align: right;\">\n",
              "      <th></th>\n",
              "      <th>words</th>\n",
              "      <th>count_spam</th>\n",
              "      <th>count_ham</th>\n",
              "      <th>is_spam_prob</th>\n",
              "      <th>is_ham_prob</th>\n",
              "    </tr>\n",
              "  </thead>\n",
              "  <tbody>\n",
              "    <tr>\n",
              "      <th>0</th>\n",
              "      <td>aproach</td>\n",
              "      <td>1</td>\n",
              "      <td>3</td>\n",
              "      <td>0.000040</td>\n",
              "      <td>0.000040</td>\n",
              "    </tr>\n",
              "    <tr>\n",
              "      <th>1</th>\n",
              "      <td>mrng</td>\n",
              "      <td>1</td>\n",
              "      <td>15</td>\n",
              "      <td>0.000040</td>\n",
              "      <td>0.000199</td>\n",
              "    </tr>\n",
              "    <tr>\n",
              "      <th>2</th>\n",
              "      <td>nightnight</td>\n",
              "      <td>1</td>\n",
              "      <td>2</td>\n",
              "      <td>0.000040</td>\n",
              "      <td>0.000027</td>\n",
              "    </tr>\n",
              "    <tr>\n",
              "      <th>3</th>\n",
              "      <td>internetservice</td>\n",
              "      <td>2</td>\n",
              "      <td>1</td>\n",
              "      <td>0.000081</td>\n",
              "      <td>0.000013</td>\n",
              "    </tr>\n",
              "    <tr>\n",
              "      <th>4</th>\n",
              "      <td>u</td>\n",
              "      <td>156</td>\n",
              "      <td>989</td>\n",
              "      <td>0.006317</td>\n",
              "      <td>0.013127</td>\n",
              "    </tr>\n",
              "  </tbody>\n",
              "</table>\n",
              "</div>\n",
              "    <div class=\"colab-df-buttons\">\n",
              "\n",
              "  <div class=\"colab-df-container\">\n",
              "    <button class=\"colab-df-convert\" onclick=\"convertToInteractive('df-f59c4b82-cd49-4f94-a31f-a5b9c8d22ff7')\"\n",
              "            title=\"Convert this dataframe to an interactive table.\"\n",
              "            style=\"display:none;\">\n",
              "\n",
              "  <svg xmlns=\"http://www.w3.org/2000/svg\" height=\"24px\" viewBox=\"0 -960 960 960\">\n",
              "    <path d=\"M120-120v-720h720v720H120Zm60-500h600v-160H180v160Zm220 220h160v-160H400v160Zm0 220h160v-160H400v160ZM180-400h160v-160H180v160Zm440 0h160v-160H620v160ZM180-180h160v-160H180v160Zm440 0h160v-160H620v160Z\"/>\n",
              "  </svg>\n",
              "    </button>\n",
              "\n",
              "  <style>\n",
              "    .colab-df-container {\n",
              "      display:flex;\n",
              "      gap: 12px;\n",
              "    }\n",
              "\n",
              "    .colab-df-convert {\n",
              "      background-color: #E8F0FE;\n",
              "      border: none;\n",
              "      border-radius: 50%;\n",
              "      cursor: pointer;\n",
              "      display: none;\n",
              "      fill: #1967D2;\n",
              "      height: 32px;\n",
              "      padding: 0 0 0 0;\n",
              "      width: 32px;\n",
              "    }\n",
              "\n",
              "    .colab-df-convert:hover {\n",
              "      background-color: #E2EBFA;\n",
              "      box-shadow: 0px 1px 2px rgba(60, 64, 67, 0.3), 0px 1px 3px 1px rgba(60, 64, 67, 0.15);\n",
              "      fill: #174EA6;\n",
              "    }\n",
              "\n",
              "    .colab-df-buttons div {\n",
              "      margin-bottom: 4px;\n",
              "    }\n",
              "\n",
              "    [theme=dark] .colab-df-convert {\n",
              "      background-color: #3B4455;\n",
              "      fill: #D2E3FC;\n",
              "    }\n",
              "\n",
              "    [theme=dark] .colab-df-convert:hover {\n",
              "      background-color: #434B5C;\n",
              "      box-shadow: 0px 1px 3px 1px rgba(0, 0, 0, 0.15);\n",
              "      filter: drop-shadow(0px 1px 2px rgba(0, 0, 0, 0.3));\n",
              "      fill: #FFFFFF;\n",
              "    }\n",
              "  </style>\n",
              "\n",
              "    <script>\n",
              "      const buttonEl =\n",
              "        document.querySelector('#df-f59c4b82-cd49-4f94-a31f-a5b9c8d22ff7 button.colab-df-convert');\n",
              "      buttonEl.style.display =\n",
              "        google.colab.kernel.accessAllowed ? 'block' : 'none';\n",
              "\n",
              "      async function convertToInteractive(key) {\n",
              "        const element = document.querySelector('#df-f59c4b82-cd49-4f94-a31f-a5b9c8d22ff7');\n",
              "        const dataTable =\n",
              "          await google.colab.kernel.invokeFunction('convertToInteractive',\n",
              "                                                    [key], {});\n",
              "        if (!dataTable) return;\n",
              "\n",
              "        const docLinkHtml = 'Like what you see? Visit the ' +\n",
              "          '<a target=\"_blank\" href=https://colab.research.google.com/notebooks/data_table.ipynb>data table notebook</a>'\n",
              "          + ' to learn more about interactive tables.';\n",
              "        element.innerHTML = '';\n",
              "        dataTable['output_type'] = 'display_data';\n",
              "        await google.colab.output.renderOutput(dataTable, element);\n",
              "        const docLink = document.createElement('div');\n",
              "        docLink.innerHTML = docLinkHtml;\n",
              "        element.appendChild(docLink);\n",
              "      }\n",
              "    </script>\n",
              "  </div>\n",
              "\n",
              "\n",
              "<div id=\"df-e9583edb-f83c-48b8-8da9-a793951c44a6\">\n",
              "  <button class=\"colab-df-quickchart\" onclick=\"quickchart('df-e9583edb-f83c-48b8-8da9-a793951c44a6')\"\n",
              "            title=\"Suggest charts\"\n",
              "            style=\"display:none;\">\n",
              "\n",
              "<svg xmlns=\"http://www.w3.org/2000/svg\" height=\"24px\"viewBox=\"0 0 24 24\"\n",
              "     width=\"24px\">\n",
              "    <g>\n",
              "        <path d=\"M19 3H5c-1.1 0-2 .9-2 2v14c0 1.1.9 2 2 2h14c1.1 0 2-.9 2-2V5c0-1.1-.9-2-2-2zM9 17H7v-7h2v7zm4 0h-2V7h2v10zm4 0h-2v-4h2v4z\"/>\n",
              "    </g>\n",
              "</svg>\n",
              "  </button>\n",
              "\n",
              "<style>\n",
              "  .colab-df-quickchart {\n",
              "      --bg-color: #E8F0FE;\n",
              "      --fill-color: #1967D2;\n",
              "      --hover-bg-color: #E2EBFA;\n",
              "      --hover-fill-color: #174EA6;\n",
              "      --disabled-fill-color: #AAA;\n",
              "      --disabled-bg-color: #DDD;\n",
              "  }\n",
              "\n",
              "  [theme=dark] .colab-df-quickchart {\n",
              "      --bg-color: #3B4455;\n",
              "      --fill-color: #D2E3FC;\n",
              "      --hover-bg-color: #434B5C;\n",
              "      --hover-fill-color: #FFFFFF;\n",
              "      --disabled-bg-color: #3B4455;\n",
              "      --disabled-fill-color: #666;\n",
              "  }\n",
              "\n",
              "  .colab-df-quickchart {\n",
              "    background-color: var(--bg-color);\n",
              "    border: none;\n",
              "    border-radius: 50%;\n",
              "    cursor: pointer;\n",
              "    display: none;\n",
              "    fill: var(--fill-color);\n",
              "    height: 32px;\n",
              "    padding: 0;\n",
              "    width: 32px;\n",
              "  }\n",
              "\n",
              "  .colab-df-quickchart:hover {\n",
              "    background-color: var(--hover-bg-color);\n",
              "    box-shadow: 0 1px 2px rgba(60, 64, 67, 0.3), 0 1px 3px 1px rgba(60, 64, 67, 0.15);\n",
              "    fill: var(--button-hover-fill-color);\n",
              "  }\n",
              "\n",
              "  .colab-df-quickchart-complete:disabled,\n",
              "  .colab-df-quickchart-complete:disabled:hover {\n",
              "    background-color: var(--disabled-bg-color);\n",
              "    fill: var(--disabled-fill-color);\n",
              "    box-shadow: none;\n",
              "  }\n",
              "\n",
              "  .colab-df-spinner {\n",
              "    border: 2px solid var(--fill-color);\n",
              "    border-color: transparent;\n",
              "    border-bottom-color: var(--fill-color);\n",
              "    animation:\n",
              "      spin 1s steps(1) infinite;\n",
              "  }\n",
              "\n",
              "  @keyframes spin {\n",
              "    0% {\n",
              "      border-color: transparent;\n",
              "      border-bottom-color: var(--fill-color);\n",
              "      border-left-color: var(--fill-color);\n",
              "    }\n",
              "    20% {\n",
              "      border-color: transparent;\n",
              "      border-left-color: var(--fill-color);\n",
              "      border-top-color: var(--fill-color);\n",
              "    }\n",
              "    30% {\n",
              "      border-color: transparent;\n",
              "      border-left-color: var(--fill-color);\n",
              "      border-top-color: var(--fill-color);\n",
              "      border-right-color: var(--fill-color);\n",
              "    }\n",
              "    40% {\n",
              "      border-color: transparent;\n",
              "      border-right-color: var(--fill-color);\n",
              "      border-top-color: var(--fill-color);\n",
              "    }\n",
              "    60% {\n",
              "      border-color: transparent;\n",
              "      border-right-color: var(--fill-color);\n",
              "    }\n",
              "    80% {\n",
              "      border-color: transparent;\n",
              "      border-right-color: var(--fill-color);\n",
              "      border-bottom-color: var(--fill-color);\n",
              "    }\n",
              "    90% {\n",
              "      border-color: transparent;\n",
              "      border-bottom-color: var(--fill-color);\n",
              "    }\n",
              "  }\n",
              "</style>\n",
              "\n",
              "  <script>\n",
              "    async function quickchart(key) {\n",
              "      const quickchartButtonEl =\n",
              "        document.querySelector('#' + key + ' button');\n",
              "      quickchartButtonEl.disabled = true;  // To prevent multiple clicks.\n",
              "      quickchartButtonEl.classList.add('colab-df-spinner');\n",
              "      try {\n",
              "        const charts = await google.colab.kernel.invokeFunction(\n",
              "            'suggestCharts', [key], {});\n",
              "      } catch (error) {\n",
              "        console.error('Error during call to suggestCharts:', error);\n",
              "      }\n",
              "      quickchartButtonEl.classList.remove('colab-df-spinner');\n",
              "      quickchartButtonEl.classList.add('colab-df-quickchart-complete');\n",
              "    }\n",
              "    (() => {\n",
              "      let quickchartButtonEl =\n",
              "        document.querySelector('#df-e9583edb-f83c-48b8-8da9-a793951c44a6 button');\n",
              "      quickchartButtonEl.style.display =\n",
              "        google.colab.kernel.accessAllowed ? 'block' : 'none';\n",
              "    })();\n",
              "  </script>\n",
              "</div>\n",
              "    </div>\n",
              "  </div>\n"
            ]
          },
          "metadata": {},
          "execution_count": 10
        }
      ]
    },
    {
      "cell_type": "code",
      "source": [
        "# Calculating probability of spam and ham\n",
        "\n",
        "p_spam = df[df['category'] == 'spam']['category'].count()/df.shape[0]\n",
        "p_ham = df[df['category'] == 'ham']['category'].count()/df.shape[0]"
      ],
      "metadata": {
        "id": "Ef9q9QC9pU4o"
      },
      "execution_count": 11,
      "outputs": []
    },
    {
      "cell_type": "markdown",
      "source": [
        "# Testing the classifier"
      ],
      "metadata": {
        "id": "fYbvx3npn66D"
      }
    },
    {
      "cell_type": "code",
      "source": [
        "spam_classifier = ClassifySpam(word_count_df, p_spam, p_ham)"
      ],
      "metadata": {
        "id": "U_WHWQtSitA5"
      },
      "execution_count": 12,
      "outputs": []
    },
    {
      "cell_type": "code",
      "source": [
        "spam_classifier.is_spam_or_ham(\"Free subscription!!!!\")"
      ],
      "metadata": {
        "colab": {
          "base_uri": "https://localhost:8080/",
          "height": 35
        },
        "id": "6WZAWWxniyt8",
        "outputId": "536aea4b-f948-4d43-c9cf-aefce4d7f6a7"
      },
      "execution_count": 13,
      "outputs": [
        {
          "output_type": "execute_result",
          "data": {
            "text/plain": [
              "'Classified as spam message'"
            ],
            "application/vnd.google.colaboratory.intrinsic+json": {
              "type": "string"
            }
          },
          "metadata": {},
          "execution_count": 13
        }
      ]
    },
    {
      "cell_type": "code",
      "source": [
        "spam_classifier.is_spam_or_ham(\"Hi Friends\")"
      ],
      "metadata": {
        "colab": {
          "base_uri": "https://localhost:8080/",
          "height": 35
        },
        "id": "zwKnyGPik44o",
        "outputId": "d641570c-c4c3-4ef8-8686-0863d34a9dd2"
      },
      "execution_count": 14,
      "outputs": [
        {
          "output_type": "execute_result",
          "data": {
            "text/plain": [
              "'Classified as normal message'"
            ],
            "application/vnd.google.colaboratory.intrinsic+json": {
              "type": "string"
            }
          },
          "metadata": {},
          "execution_count": 14
        }
      ]
    },
    {
      "cell_type": "code",
      "source": [
        "spam_classifier.is_spam_or_ham(\"Please call me when you are free.\")"
      ],
      "metadata": {
        "colab": {
          "base_uri": "https://localhost:8080/",
          "height": 35
        },
        "id": "J1OLFT-9lOzj",
        "outputId": "bb175603-3dbf-498e-82b1-efa7f7fc1f91"
      },
      "execution_count": 15,
      "outputs": [
        {
          "output_type": "execute_result",
          "data": {
            "text/plain": [
              "'Classified as normal message'"
            ],
            "application/vnd.google.colaboratory.intrinsic+json": {
              "type": "string"
            }
          },
          "metadata": {},
          "execution_count": 15
        }
      ]
    },
    {
      "cell_type": "code",
      "source": [
        "spam_classifier.is_spam_or_ham(\"Foobar.\")"
      ],
      "metadata": {
        "colab": {
          "base_uri": "https://localhost:8080/",
          "height": 35
        },
        "id": "iEZoipxyrxlG",
        "outputId": "46d8ff61-abb6-4dff-c136-fa07fad2cef1"
      },
      "execution_count": 16,
      "outputs": [
        {
          "output_type": "execute_result",
          "data": {
            "text/plain": [
              "'Cannot classify'"
            ],
            "application/vnd.google.colaboratory.intrinsic+json": {
              "type": "string"
            }
          },
          "metadata": {},
          "execution_count": 16
        }
      ]
    },
    {
      "cell_type": "markdown",
      "source": [
        "## Drawbacks\n",
        "\n",
        "It cannot classify the message when the word is not present in the provided words dictionary/dataset and as it's using naive bayes, it considers each feature independent and does not take into account the relation among other words in the sentence."
      ],
      "metadata": {
        "id": "XQBGMArlr1uk"
      }
    },
    {
      "cell_type": "code",
      "source": [],
      "metadata": {
        "id": "8NWKj5vKr0dd"
      },
      "execution_count": 16,
      "outputs": []
    }
  ]
}